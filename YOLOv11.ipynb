{
  "cells": [
    {
      "cell_type": "code",
      "execution_count": null,
      "metadata": {},
      "outputs": [],
      "source": [
        "# Clone repo\n",
        "!git clone https://github.com/chnor01/TurbineAid.git"
      ]
    },
    {
      "cell_type": "code",
      "execution_count": null,
      "metadata": {
        "id": "oVLZGjzlOURb"
      },
      "outputs": [],
      "source": [
        "# Install dependencies\n",
        "import random, os, locale\n",
        "locale.getpreferredencoding = lambda: \"UTF-8\"\n",
        "%pip install ultralytics\n",
        "import ultralytics\n",
        "from ultralytics import YOLO\n",
        "ultralytics.checks()"
      ]
    },
    {
      "cell_type": "code",
      "execution_count": null,
      "metadata": {
        "id": "i-QXh0mCzhSk"
      },
      "outputs": [],
      "source": [
        "# Finetune pretrained model\n",
        "model = YOLO(\"yolo11s.pt\")\n",
        "results = model.train(task=\"detect\", data=\"TurbineAid/yolo_model/data_config.yaml\", cfg=\"TurbineAid/yolo_model/main_augs.yaml\", epochs=100, imgsz=640, batch=42, cache=\"disk\", plots=True)"
      ]
    },
    {
      "cell_type": "code",
      "execution_count": null,
      "metadata": {
        "id": "HYvRLINfD43p"
      },
      "outputs": [],
      "source": [
        "# Load best weights\n",
        "model = YOLO(\"runs/detect/train/weights/best.pt\")\n",
        "metrics = model.val()\n",
        "metrics.box.map  # map50-95\n",
        "metrics.box.map50  # map50\n",
        "metrics.box.map75  # map75\n",
        "metrics.box.maps  # a list contains map50-95 of each category"
      ]
    },
    {
      "cell_type": "code",
      "execution_count": null,
      "metadata": {
        "id": "-OwIJxfkI2f8"
      },
      "outputs": [],
      "source": [
        "#for testing purposes\n",
        "%cd /content/TurbineAid/data/yolo_dataset/images/test\n",
        "\n",
        "infer_img_list = []\n",
        "random.seed()\n",
        "\n",
        "for i in range(30):\n",
        "  infer_img_list.append(random.choice(os.listdir()))\n",
        "\n",
        "results = model(infer_img_list)\n",
        "\n",
        "for result in results:\n",
        "    xywh = result.boxes.xywh  # center-x, center-y, width, height\n",
        "    xywhn = result.boxes.xywhn  # normalized\n",
        "    xyxy = result.boxes.xyxy  # top-left-x, top-left-y, bottom-right-x, bottom-right-y\n",
        "    xyxyn = result.boxes.xyxyn  # normalized\n",
        "    names = [result.names[cls.item()] for cls in result.boxes.cls.int()]  # class name of each box\n",
        "    confs = result.boxes.conf  # confidence score of each box\n",
        "    result.show()"
      ]
    }
  ],
  "metadata": {
    "accelerator": "GPU",
    "colab": {
      "gpuType": "T4",
      "provenance": []
    },
    "kernelspec": {
      "display_name": "Python 3",
      "name": "python3"
    },
    "language_info": {
      "name": "python"
    }
  },
  "nbformat": 4,
  "nbformat_minor": 0
}
